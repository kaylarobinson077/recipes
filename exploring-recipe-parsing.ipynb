{
 "cells": [
  {
   "cell_type": "code",
   "execution_count": 111,
   "metadata": {},
   "outputs": [],
   "source": [
    "import nltk\n",
    "import urllib.request\n",
    "\n",
    "import bs4 as bs\n",
    "import sys\n",
    "import time\n",
    "import re\n",
    "import bs4 as bs\n",
    "###\n",
    "from nltk import word_tokenize, pos_tag\n",
    "from nltk.corpus import wordnet as wn"
   ]
  },
  {
   "cell_type": "code",
   "execution_count": 58,
   "metadata": {},
   "outputs": [
    {
     "name": "stdout",
     "output_type": "stream",
     "text": [
      "Collecting recipe-scrapers\n",
      "  Downloading recipe_scrapers-9.1.1.tar.gz (29 kB)\n",
      "Requirement already satisfied: beautifulsoup4>=4.6.0 in ./opt/anaconda3/lib/python3.7/site-packages (from recipe-scrapers) (4.8.0)\n",
      "Collecting extruct>=0.8.0\n",
      "  Downloading extruct-0.9.0-py2.py3-none-any.whl (14 kB)\n",
      "Collecting language-tags>=1.0.0\n",
      "  Downloading language_tags-1.0.0.tar.gz (203 kB)\n",
      "\u001b[K     |████████████████████████████████| 203 kB 1.4 MB/s eta 0:00:01\n",
      "\u001b[?25hRequirement already satisfied: requests>=2.19.1 in ./opt/anaconda3/lib/python3.7/site-packages (from recipe-scrapers) (2.22.0)\n",
      "Collecting tldextract==2.2.2\n",
      "  Downloading tldextract-2.2.2-py2.py3-none-any.whl (48 kB)\n",
      "\u001b[K     |████████████████████████████████| 48 kB 3.2 MB/s eta 0:00:01\n",
      "\u001b[?25hRequirement already satisfied: soupsieve>=1.2 in ./opt/anaconda3/lib/python3.7/site-packages (from beautifulsoup4>=4.6.0->recipe-scrapers) (1.9.3)\n",
      "Collecting mf2py\n",
      "  Downloading mf2py-1.1.2.tar.gz (25 kB)\n",
      "Collecting html-text>=0.5.1\n",
      "  Downloading html_text-0.5.2-py2.py3-none-any.whl (7.5 kB)\n",
      "Collecting rdflib<5.0.0\n",
      "  Downloading rdflib-4.2.2-py3-none-any.whl (344 kB)\n",
      "\u001b[K     |████████████████████████████████| 344 kB 3.7 MB/s eta 0:00:01\n",
      "\u001b[?25hRequirement already satisfied: six in ./opt/anaconda3/lib/python3.7/site-packages (from extruct>=0.8.0->recipe-scrapers) (1.13.0)\n",
      "Requirement already satisfied: lxml in ./opt/anaconda3/lib/python3.7/site-packages (from extruct>=0.8.0->recipe-scrapers) (4.4.1)\n",
      "Collecting rdflib-jsonld\n",
      "  Downloading rdflib-jsonld-0.5.0.tar.gz (55 kB)\n",
      "\u001b[K     |████████████████████████████████| 55 kB 2.3 MB/s eta 0:00:01\n",
      "\u001b[?25hCollecting w3lib\n",
      "  Downloading w3lib-1.22.0-py2.py3-none-any.whl (20 kB)\n",
      "Requirement already satisfied: idna<2.9,>=2.5 in ./opt/anaconda3/lib/python3.7/site-packages (from requests>=2.19.1->recipe-scrapers) (2.8)\n",
      "Requirement already satisfied: chardet<3.1.0,>=3.0.2 in ./opt/anaconda3/lib/python3.7/site-packages (from requests>=2.19.1->recipe-scrapers) (3.0.4)\n",
      "Requirement already satisfied: certifi>=2017.4.17 in ./opt/anaconda3/lib/python3.7/site-packages (from requests>=2.19.1->recipe-scrapers) (2019.9.11)\n",
      "Requirement already satisfied: urllib3!=1.25.0,!=1.25.1,<1.26,>=1.21.1 in ./opt/anaconda3/lib/python3.7/site-packages (from requests>=2.19.1->recipe-scrapers) (1.24.2)\n",
      "Requirement already satisfied: setuptools in ./opt/anaconda3/lib/python3.7/site-packages (from tldextract==2.2.2->recipe-scrapers) (41.4.0)\n",
      "Collecting requests-file>=1.4\n",
      "  Downloading requests_file-1.5.1-py2.py3-none-any.whl (3.7 kB)\n",
      "Requirement already satisfied: html5lib>=1.0.1 in ./opt/anaconda3/lib/python3.7/site-packages (from mf2py->extruct>=0.8.0->recipe-scrapers) (1.0.1)\n",
      "Collecting isodate\n",
      "  Using cached isodate-0.6.0-py2.py3-none-any.whl (45 kB)\n",
      "Requirement already satisfied: pyparsing in ./opt/anaconda3/lib/python3.7/site-packages (from rdflib<5.0.0->extruct>=0.8.0->recipe-scrapers) (2.4.2)\n",
      "Requirement already satisfied: webencodings in ./opt/anaconda3/lib/python3.7/site-packages (from html5lib>=1.0.1->mf2py->extruct>=0.8.0->recipe-scrapers) (0.5.1)\n",
      "Building wheels for collected packages: recipe-scrapers, language-tags, mf2py, rdflib-jsonld\n",
      "  Building wheel for recipe-scrapers (setup.py) ... \u001b[?25ldone\n",
      "\u001b[?25h  Created wheel for recipe-scrapers: filename=recipe_scrapers-9.1.1-py3-none-any.whl size=63973 sha256=661f85cee59addca5d44f1d57d5af86ee34faef273baf843cfa0fb1e5a660ccb\n",
      "  Stored in directory: /Users/krobinson2/Library/Caches/pip/wheels/9d/2a/76/f1a1aee295d07b0de80e060fbfd4ffd0b62dc87ab6a9794c07\n",
      "  Building wheel for language-tags (setup.py) ... \u001b[?25ldone\n",
      "\u001b[?25h  Created wheel for language-tags: filename=language_tags-1.0.0-py2.py3-none-any.whl size=209136 sha256=3db306b5a9440dc314fec2a002367ce4e64a8e22e8d015b29745976fd84d368a\n",
      "  Stored in directory: /Users/krobinson2/Library/Caches/pip/wheels/d8/b8/32/8a7775e788408b8d925eeab05e8b6be25ef6973b9378b7a40a\n",
      "  Building wheel for mf2py (setup.py) ... \u001b[?25ldone\n",
      "\u001b[?25h  Created wheel for mf2py: filename=mf2py-1.1.2-py3-none-any.whl size=23244 sha256=4195926aaf2676756dbe7c47c42192d61b2dc5d985edd507c20f82b3c30e8b11\n",
      "  Stored in directory: /Users/krobinson2/Library/Caches/pip/wheels/d9/47/72/d1f19d30e8dd2c06e7084d93ea90ab5ec60c6db488398c67db\n",
      "  Building wheel for rdflib-jsonld (setup.py) ... \u001b[?25ldone\n",
      "\u001b[?25h  Created wheel for rdflib-jsonld: filename=rdflib_jsonld-0.5.0-py2.py3-none-any.whl size=15348 sha256=bc93dd9f3574f766e3c2817838e64f8edf330c8ee34b083cce04f11b7b60329c\n",
      "  Stored in directory: /Users/krobinson2/Library/Caches/pip/wheels/4f/eb/05/80670f7bcdfffdee4b9b6610d954cd8da8d788a2516ba1424d\n",
      "Successfully built recipe-scrapers language-tags mf2py rdflib-jsonld\n",
      "Installing collected packages: mf2py, html-text, isodate, rdflib, rdflib-jsonld, w3lib, extruct, language-tags, requests-file, tldextract, recipe-scrapers\n",
      "Successfully installed extruct-0.9.0 html-text-0.5.2 isodate-0.6.0 language-tags-1.0.0 mf2py-1.1.2 rdflib-4.2.2 rdflib-jsonld-0.5.0 recipe-scrapers-9.1.1 requests-file-1.5.1 tldextract-2.2.2 w3lib-1.22.0\n",
      "\u001b[33mWARNING: You are using pip version 20.1.1; however, version 20.2.2 is available.\n",
      "You should consider upgrading via the '/Users/krobinson2/opt/anaconda3/bin/python -m pip install --upgrade pip' command.\u001b[0m\n",
      "Note: you may need to restart the kernel to use updated packages.\n"
     ]
    }
   ],
   "source": [
    "pip install recipe-scrapers"
   ]
  },
  {
   "cell_type": "code",
   "execution_count": 59,
   "metadata": {},
   "outputs": [],
   "source": [
    "from recipe_scrapers import scrape_me"
   ]
  },
  {
   "cell_type": "code",
   "execution_count": 68,
   "metadata": {},
   "outputs": [
    {
     "data": {
      "text/plain": [
       "'Pizza Margherita'"
      ]
     },
     "execution_count": 68,
     "metadata": {},
     "output_type": "execute_result"
    }
   ],
   "source": [
    "scraper = scrape_me('https://cooking.nytimes.com/recipes/1016231-pizza-margherita?action=click&region=Sam%20Sifton%27s%20Suggestions&rank=1')\n",
    "\n",
    "scraper.title()"
   ]
  },
  {
   "cell_type": "code",
   "execution_count": 69,
   "metadata": {},
   "outputs": [
    {
     "data": {
      "text/plain": [
       "15"
      ]
     },
     "execution_count": 69,
     "metadata": {},
     "output_type": "execute_result"
    }
   ],
   "source": [
    "scraper.total_time()\n"
   ]
  },
  {
   "cell_type": "code",
   "execution_count": 70,
   "metadata": {},
   "outputs": [
    {
     "data": {
      "text/plain": [
       "'2 servings'"
      ]
     },
     "execution_count": 70,
     "metadata": {},
     "output_type": "execute_result"
    }
   ],
   "source": [
    "scraper.yields()\n"
   ]
  },
  {
   "cell_type": "code",
   "execution_count": 71,
   "metadata": {},
   "outputs": [
    {
     "data": {
      "text/plain": [
       "['1 12-inch round of pizza dough, stretched <a href=\"http://cooking.nytimes.com/recipes/1016230-robertas-pizza-dough\">(see recipe)</a>',\n",
       " '3 tablespoons tomato sauce (see note)',\n",
       " 'Extra-virgin olive oil',\n",
       " '2 3/4 ounces fresh mozzarella',\n",
       " '4 to 5 basil leaves, roughly torn']"
      ]
     },
     "execution_count": 71,
     "metadata": {},
     "output_type": "execute_result"
    }
   ],
   "source": [
    "scraper.ingredients()\n"
   ]
  },
  {
   "cell_type": "code",
   "execution_count": 72,
   "metadata": {},
   "outputs": [
    {
     "data": {
      "text/plain": [
       "'Place a pizza stone or tiles on the middle rack of your oven and turn heat to its highest setting. Let it heat for at least an hour.\\nPut the sauce in the center of the stretched dough and use the back of a spoon to spread it evenly across the surface, stopping approximately 1/2 inch from the edges.\\nDrizzle a little olive oil over the pie. Break the cheese into large pieces and place these gently on the sauce. Scatter basil leaves over the top.\\nUsing a pizza peel, pick up the pie and slide it onto the heated stone or tiles in the oven. Bake until the crust is golden brown and the cheese is bubbling, approximately 4 to 8 minutes.'"
      ]
     },
     "execution_count": 72,
     "metadata": {},
     "output_type": "execute_result"
    }
   ],
   "source": [
    "scraper.instructions()\n"
   ]
  },
  {
   "cell_type": "code",
   "execution_count": 73,
   "metadata": {},
   "outputs": [
    {
     "data": {
      "text/plain": [
       "'https://static01.nyt.com/images/2014/04/09/dining/09JPPIZZA2/09JPPIZZA2-articleLarge.jpg'"
      ]
     },
     "execution_count": 73,
     "metadata": {},
     "output_type": "execute_result"
    }
   ],
   "source": [
    "scraper.image()\n"
   ]
  },
  {
   "cell_type": "code",
   "execution_count": 74,
   "metadata": {},
   "outputs": [
    {
     "data": {
      "text/plain": [
       "[{'href': '/?action=click&module=nav&region=logo&pgType=recipe-page',\n",
       "  'class': ['nytc---sitelogo---logoWrapper'],\n",
       "  'aria-label': 'Cooking with The New York Times'},\n",
       " {'class': ['author', 'personality'],\n",
       "  'data-author': 'Sam Sifton',\n",
       "  'href': '/ourcooks/sam-sifton/my-recipes'},\n",
       " {'class': ['btn', 'share-btn', 'icon', 'email', 'icon-bubble-email'],\n",
       "  'href': 'mailto:?subject=NYT%20Cooking:%20Pizza%20Margherita&body=NYT%20Cooking:%20Pizza%20Margherita%0A%0Ahttps://cooking.nytimes.com/recipes/1016231-pizza-margherita%3Futm_source%3Dsharetools%26utm_medium%3Demail%26utm_campaign%3Dwebsite',\n",
       "  'target': '_blank',\n",
       "  'data-role': 'share-button',\n",
       "  'data-platform': 'Email',\n",
       "  'rel': ['noreferrer', 'noopener']},\n",
       " {'class': ['btn', 'share-btn', 'icon', 'pinterest', 'icon-bubble-pinterest'],\n",
       "  'href': 'http://www.pinterest.com/pin/create/button/?url=https%3A%2F%2Fcooking.nytimes.com%2Frecipes%2F1016231-pizza-margherita%3Fsmid=pin-share&description=NYT%20Cooking:%20Here%20is%20the%20archetype%20of%20a%20thin-crust%20pizza%20pie,%20a%20pizza%20margherita%20adorned%20simply%20in%20the%20colors%20of%20the%20Italian%20flag:%20green%20from%20basil,%20white%20from%20mozzarella,%20red%20from%20tomato%20sauce.%20This%20pizza%20is%20adapted%20from%20the%20recipe%20used%20by%20the%20staff%20at%20Roberta’s%20restaurant%20in%20Brooklyn,%20who%20make%20their%20tomato%20sauce%20simply%20by%20whizzing%20together%20canned%20tomatoes,%20a%20drizzle%20of%20olive%20oil%20and%20a%20pinch%20of%20salt.%20The%20i...&media=https%3A%2F%2Fstatic01.nyt.com%2Fimages%2F2014%2F04%2F09%2Fdining%2F09JPPIZZA2%2F09JPPIZZA2-verticalTwoByThree735-v4.jpg',\n",
       "  'target': '_blank',\n",
       "  'data-role': 'share-button',\n",
       "  'data-platform': 'Pinterest',\n",
       "  'rel': ['noreferrer', 'noopener']},\n",
       " {'class': ['btn', 'share-btn', 'icon', 'facebook', 'icon-bubble-fb'],\n",
       "  'href': 'http://www.facebook.com/sharer/sharer.php?u=https://cooking.nytimes.com/recipes/1016231-pizza-margherita%3Fsmid=fb-share',\n",
       "  'target': '_blank',\n",
       "  'data-role': 'share-button',\n",
       "  'data-platform': 'Facebook',\n",
       "  'rel': ['noreferrer', 'noopener']},\n",
       " {'class': ['btn', 'share-btn', 'icon', 'twitter', 'icon-bubble-twitter'],\n",
       "  'href': 'http://twitter.com/intent/tweet?text=Pizza%20Margherita&url=https://cooking.nytimes.com/recipes/1016231-pizza-margherita%3Fsmid=tw-share&hashtags=NYTCooking',\n",
       "  'target': '_blank',\n",
       "  'data-role': 'share-button',\n",
       "  'data-platform': 'Twitter',\n",
       "  'rel': ['noreferrer', 'noopener']},\n",
       " {'href': 'https://www.nytimes.com/2014/04/09/dining/a-little-pizza-homework.html'},\n",
       " {'class': ['recipe-guide-link'],\n",
       "  'href': 'https://cooking.nytimes.com/guides/1-how-to-make-pizza'},\n",
       " {'id': 'italian-tag', 'class': ['tag'], 'href': '/tag/italian'},\n",
       " {'id': 'pizza-and-calzones-tag',\n",
       "  'class': ['tag'],\n",
       "  'href': '/tag/pizza%20and%20calzones'},\n",
       " {'id': 'mozzarella-tag', 'class': ['tag'], 'href': '/tag/mozzarella'},\n",
       " {'id': 'pizza-dough-tag', 'class': ['tag'], 'href': '/tag/pizza%20dough'},\n",
       " {'id': 'tomato-sauce-tag', 'class': ['tag'], 'href': '/tag/tomato%20sauce'},\n",
       " {'id': 'dinner-tag', 'class': ['tag'], 'href': '/tag/dinner'},\n",
       " {'id': 'lunch-tag', 'class': ['tag'], 'href': '/tag/lunch'},\n",
       " {'id': 'appetizer-tag', 'class': ['tag'], 'href': '/tag/appetizer'},\n",
       " {'id': 'main-course-tag', 'class': ['tag'], 'href': '/tag/main%20course'},\n",
       " {'href': 'http://cooking.nytimes.com/recipes/1016230-robertas-pizza-dough'},\n",
       " {'href': 'https://www.edamam.com/website/wizard.jsp', 'target': '_blank'},\n",
       " {'class': ['btn', 'share-btn', 'icon', 'email', 'icon-bubble-email'],\n",
       "  'href': 'mailto:?subject=NYT%20Cooking:%20Pizza%20Margherita&body=NYT%20Cooking:%20Pizza%20Margherita%0A%0Ahttps://cooking.nytimes.com/recipes/1016231-pizza-margherita%3Futm_source%3Dsharetools%26utm_medium%3Demail%26utm_campaign%3Dwebsite',\n",
       "  'target': '_blank',\n",
       "  'data-role': 'share-button',\n",
       "  'data-platform': 'Email',\n",
       "  'rel': ['noreferrer', 'noopener']},\n",
       " {'class': ['btn', 'share-btn', 'icon', 'pinterest', 'icon-bubble-pinterest'],\n",
       "  'href': 'http://www.pinterest.com/pin/create/button/?url=https%3A%2F%2Fcooking.nytimes.com%2Frecipes%2F1016231-pizza-margherita%3Fsmid=pin-share&description=NYT%20Cooking:%20Here%20is%20the%20archetype%20of%20a%20thin-crust%20pizza%20pie,%20a%20pizza%20margherita%20adorned%20simply%20in%20the%20colors%20of%20the%20Italian%20flag:%20green%20from%20basil,%20white%20from%20mozzarella,%20red%20from%20tomato%20sauce.%20This%20pizza%20is%20adapted%20from%20the%20recipe%20used%20by%20the%20staff%20at%20Roberta’s%20restaurant%20in%20Brooklyn,%20who%20make%20their%20tomato%20sauce%20simply%20by%20whizzing%20together%20canned%20tomatoes,%20a%20drizzle%20of%20olive%20oil%20and%20a%20pinch%20of%20salt.%20The%20i...&media=https%3A%2F%2Fstatic01.nyt.com%2Fimages%2F2014%2F04%2F09%2Fdining%2F09JPPIZZA2%2F09JPPIZZA2-verticalTwoByThree735-v4.jpg',\n",
       "  'target': '_blank',\n",
       "  'data-role': 'share-button',\n",
       "  'data-platform': 'Pinterest',\n",
       "  'rel': ['noreferrer', 'noopener']},\n",
       " {'class': ['btn', 'share-btn', 'icon', 'facebook', 'icon-bubble-fb'],\n",
       "  'href': 'http://www.facebook.com/sharer/sharer.php?u=https://cooking.nytimes.com/recipes/1016231-pizza-margherita%3Fsmid=fb-share',\n",
       "  'target': '_blank',\n",
       "  'data-role': 'share-button',\n",
       "  'data-platform': 'Facebook',\n",
       "  'rel': ['noreferrer', 'noopener']},\n",
       " {'class': ['btn', 'share-btn', 'icon', 'twitter', 'icon-bubble-twitter'],\n",
       "  'href': 'http://twitter.com/intent/tweet?text=Pizza%20Margherita&url=https://cooking.nytimes.com/recipes/1016231-pizza-margherita%3Fsmid=tw-share&hashtags=NYTCooking',\n",
       "  'target': '_blank',\n",
       "  'data-role': 'share-button',\n",
       "  'data-platform': 'Twitter',\n",
       "  'rel': ['noreferrer', 'noopener']},\n",
       " {'href': '/recipes/1012498-a-plain-pizza-pie',\n",
       "  'class': ['image-anchor', 'card-link']},\n",
       " {'href': '/recipes/1012498-a-plain-pizza-pie',\n",
       "  'class': ['card-recipe-info', 'card-link']},\n",
       " {'href': '/recipes/1016233-green-and-white-pizza',\n",
       "  'class': ['image-anchor', 'card-link']},\n",
       " {'href': '/recipes/1016233-green-and-white-pizza',\n",
       "  'class': ['card-recipe-info', 'card-link']},\n",
       " {'href': '/recipes/1017930-pizza-with-sweet-and-hot-peppers',\n",
       "  'class': ['image-anchor', 'card-link']},\n",
       " {'href': '/recipes/1017930-pizza-with-sweet-and-hot-peppers',\n",
       "  'class': ['card-recipe-info', 'card-link']},\n",
       " {'href': '/recipes/1017931-pizza-dough',\n",
       "  'class': ['image-anchor', 'card-link']},\n",
       " {'class': ['sticker', 'easy'],\n",
       "  'href': '/search?filters%5Bmeal_types%5D%5B%5D=easy',\n",
       "  'title': 'Search for Easy Recipes'},\n",
       " {'href': '/recipes/1017931-pizza-dough',\n",
       "  'class': ['card-recipe-info', 'card-link']},\n",
       " {'href': '/recipes/1740-braised-chicken-with-artichokes-and-mushrooms',\n",
       "  'class': ['image-anchor', 'card-link']},\n",
       " {'href': '/recipes/1740-braised-chicken-with-artichokes-and-mushrooms',\n",
       "  'class': ['card-recipe-info', 'card-link']},\n",
       " {'href': '/recipes/1020805-seis-leches-cake',\n",
       "  'class': ['image-anchor', 'card-link']},\n",
       " {'href': '/recipes/1020805-seis-leches-cake',\n",
       "  'class': ['card-recipe-info', 'card-link']},\n",
       " {'href': '/recipes/1021266-yakitori-style-salmon-with-scallions-and-zucchini',\n",
       "  'class': ['image-anchor', 'card-link']},\n",
       " {'href': '/recipes/1021266-yakitori-style-salmon-with-scallions-and-zucchini',\n",
       "  'class': ['card-recipe-info', 'card-link']},\n",
       " {'href': '/recipes/1021277-sheet-pan-baked-feta-with-broccolini-tomatoes-and-lemon',\n",
       "  'class': ['image-anchor', 'card-link']},\n",
       " {'class': ['sticker', 'easy'],\n",
       "  'href': '/search?filters%5Bmeal_types%5D%5B%5D=easy',\n",
       "  'title': 'Search for Easy Recipes'},\n",
       " {'href': '/recipes/1021277-sheet-pan-baked-feta-with-broccolini-tomatoes-and-lemon',\n",
       "  'class': ['card-recipe-info', 'card-link']},\n",
       " {'class': ['guide-card-link', 'card-link'],\n",
       "  'href': '/guides/1-how-to-make-pizza'},\n",
       " {'class': ['guide-card-link', 'card-link'],\n",
       "  'href': '/guides/44-how-to-make-ice-cream'},\n",
       " {'class': ['guide-card-link', 'card-link'],\n",
       "  'href': '/guides/39-how-to-make-sugar-cookies'},\n",
       " {'class': ['guide-card-link', 'card-link'],\n",
       "  'href': '/guides/40-how-to-make-soup'},\n",
       " {'class': ['nytc---footernewsletterform---contactUsLink'],\n",
       "  'href': 'http://www.nytimes.com/help/index.html'},\n",
       " {'class': ['nytc---footer---iconLink'],\n",
       "  'target': '_blank',\n",
       "  'rel': ['noreferrer', 'noopener'],\n",
       "  'href': 'https://www.instagram.com/nytcooking',\n",
       "  'alt': 'Visit NYT Cooking on Instagram'},\n",
       " {'class': ['nytc---footer---iconLink'],\n",
       "  'target': '_blank',\n",
       "  'rel': ['noreferrer', 'noopener'],\n",
       "  'href': 'https://www.facebook.com/nytcooking',\n",
       "  'alt': 'Visit NYT Cooking on Facebook'},\n",
       " {'class': ['nytc---footer---iconLink'],\n",
       "  'target': '_blank',\n",
       "  'rel': ['noreferrer', 'noopener'],\n",
       "  'href': 'https://www.youtube.com/nytcooking',\n",
       "  'alt': 'Visit NYT Cooking on YouTube'},\n",
       " {'class': ['nytc---footer---iconLink'],\n",
       "  'target': '_blank',\n",
       "  'rel': ['noreferrer', 'noopener'],\n",
       "  'href': 'https://twitter.com/nytfood',\n",
       "  'alt': 'Visit NYT Cooking on Twitter'},\n",
       " {'class': ['nytc---footer---iconLink'],\n",
       "  'target': '_blank',\n",
       "  'rel': ['noreferrer', 'noopener'],\n",
       "  'href': 'https://www.pinterest.com/nytcooking/',\n",
       "  'alt': 'Visit NYT Cooking on Pinterest'},\n",
       " {'class': ['nytc---footer---appstoreLink'],\n",
       "  'target': '_blank',\n",
       "  'rel': ['noreferrer', 'noopener'],\n",
       "  'href': 'https://apps.apple.com/us/app/nyt-cooking/id911422904',\n",
       "  'alt': 'Download the iOS NYT Cooking app'},\n",
       " {'target': '_blank',\n",
       "  'rel': ['noreferrer', 'noopener'],\n",
       "  'href': 'https://play.google.com/store/apps/details?id=com.nytimes.cooking',\n",
       "  'alt': 'Download the Android NYT Cooking app'},\n",
       " {'target': '_blank',\n",
       "  'href': 'https://www.nytimes.com/subscriptions/Multiproduct/lp8R3WU.html?campaignId=79RLU',\n",
       "  'rel': ['noreferrer', 'noopener'],\n",
       "  'class': ['nytc---footer---subscribe']},\n",
       " {'href': '/ourcooks',\n",
       "  'class': ['nytc---footer---footerLink'],\n",
       "  'data-test-id': 'footer-our-cooks-link'},\n",
       " {'href': '/see-our-features',\n",
       "  'class': ['nytc---footer---footerLink'],\n",
       "  'data-test-id': 'footer-features-link'},\n",
       " {'href': '/frequently-asked-questions',\n",
       "  'class': ['nytc---footer---footerLink'],\n",
       "  'data-test-id': 'footer-faq-link'},\n",
       " {'href': '/tools',\n",
       "  'class': ['nytc---footer---footerLink'],\n",
       "  'data-test-id': 'footer-tools-link'},\n",
       " {'target': '_blank',\n",
       "  'href': 'https://www.nytimes.com/section/food',\n",
       "  'rel': ['noreferrer', 'noopener'],\n",
       "  'class': ['nytc---footer---footerLink'],\n",
       "  'data-test-id': 'footer-food-link'},\n",
       " {'href': 'mailto:cookingcare@nytimes.com',\n",
       "  'class': ['nytc---footer---footerLink', 'nytc---footer---sendFeedback'],\n",
       "  'id': 'customer-care-email'},\n",
       " {'target': '_blank',\n",
       "  'href': 'https://www.nytimes.com/subscriptions/Multiproduct/cooking_gift.html?campaignId=7HYRF',\n",
       "  'rel': ['noreferrer', 'noopener'],\n",
       "  'class': ['nytc---footer---footerLink'],\n",
       "  'data-test-id': 'footer-gift-link'},\n",
       " {'href': 'http://www.nytco.com',\n",
       "  'itemprop': 'copyrightNotice',\n",
       "  'class': ['nytc---footer---legalInfo']},\n",
       " {'href': 'http://www.nytimes.com/content/help/rights/terms/terms-of-service.html',\n",
       "  'class': ['nytc---footer---legalInfo']},\n",
       " {'href': 'http://www.nytimes.com/content/help/rights/privacy/policy/privacy-policy.html',\n",
       "  'class': ['nytc---footer---legalInfo']}]"
      ]
     },
     "execution_count": 74,
     "metadata": {},
     "output_type": "execute_result"
    }
   ],
   "source": [
    "scraper.links()"
   ]
  },
  {
   "cell_type": "code",
   "execution_count": 76,
   "metadata": {},
   "outputs": [
    {
     "data": {
      "text/plain": [
       "['1 12-inch round of pizza dough, stretched <a href=\"http://cooking.nytimes.com/recipes/1016230-robertas-pizza-dough\">(see recipe)</a>',\n",
       " '3 tablespoons tomato sauce (see note)',\n",
       " 'Extra-virgin olive oil',\n",
       " '2 3/4 ounces fresh mozzarella',\n",
       " '4 to 5 basil leaves, roughly torn']"
      ]
     },
     "execution_count": 76,
     "metadata": {},
     "output_type": "execute_result"
    }
   ],
   "source": [
    "# get pizza ingredients\n",
    "scraper = scrape_me('https://cooking.nytimes.com/recipes/1016231-pizza-margherita?action=click&region=Sam%20Sifton%27s%20Suggestions&rank=1')\n",
    "pizza_ingredients = scraper.ingredients()\n",
    "pizza_ingredients"
   ]
  },
  {
   "cell_type": "code",
   "execution_count": 77,
   "metadata": {},
   "outputs": [
    {
     "data": {
      "text/plain": [
       "['1 cup uncooked orzo pasta',\n",
       " '1 ½ cups cubed fresh mozzarella cheese',\n",
       " '2 medium whole (2-3/5\" dia) (blank)s fresh plum tomatoes, seeded and cut into bite-size pieces',\n",
       " '¼ cup chopped fresh basil',\n",
       " '1 teaspoon crushed red pepper flakes',\n",
       " '1 pinch salt to taste',\n",
       " '1 tablespoon olive oil, or as needed']"
      ]
     },
     "execution_count": 77,
     "metadata": {},
     "output_type": "execute_result"
    }
   ],
   "source": [
    "scraper = scrape_me('https://www.allrecipes.com/recipe/170382/fresh-mozzarella-pasta-salad/?internalSource=hub%20recipe&referringContentType=Search')\n",
    "pasta_ingredients = scraper.ingredients()\n",
    "pasta_ingredients"
   ]
  },
  {
   "cell_type": "code",
   "execution_count": 78,
   "metadata": {},
   "outputs": [
    {
     "data": {
      "text/plain": [
       "['2 eaches vine-ripened tomatoes, cut into 1/4-inch slices',\n",
       " '¼ cup extra-virgin olive oil, divided',\n",
       " '1 pinch sea salt and freshly ground black pepper to taste',\n",
       " '2 tablespoons butter',\n",
       " '8 slice (blank)s diagonally sliced pieces baguette',\n",
       " '1 clove garlic, halved',\n",
       " '8 ounces fresh mozzarella cheese, cut into 8 thin slices',\n",
       " '1 large avocado - halved, pitted, and thinly sliced',\n",
       " '½ small lemon',\n",
       " '¼ cup roughly chopped fresh dill',\n",
       " '1 pinch flaked salt']"
      ]
     },
     "execution_count": 78,
     "metadata": {},
     "output_type": "execute_result"
    }
   ],
   "source": [
    "scraper = scrape_me('https://www.allrecipes.com/recipe/258122/roasted-tomato-avocado-and-fresh-mozzarella-crostini/?internalSource=hub%20recipe&referringContentType=Search')\n",
    "crostini_ingredients = scraper.ingredients()\n",
    "crostini_ingredients"
   ]
  },
  {
   "cell_type": "code",
   "execution_count": 82,
   "metadata": {},
   "outputs": [],
   "source": [
    "grocery_database = ['orzo',\n",
    "                    'sea salt',\n",
    "                    'butter',\n",
    "                    'lemon',\n",
    "                    'tomato',\n",
    "                    'baguette',\n",
    "                    'garlic',\n",
    "                    'mozzarella cheese',\n",
    "                    'avocado',\n",
    "                    'dill',\n",
    "                    'flaked salt',\n",
    "                    'plum tomato',\n",
    "                    'olive oil',\n",
    "                    'basil',\n",
    "                    'tomato sauce',\n",
    "                    'tomato on the vine']"
   ]
  },
  {
   "cell_type": "code",
   "execution_count": 103,
   "metadata": {},
   "outputs": [],
   "source": [
    "def strip_quantity(ingredient):\n",
    "    return re.sub(r'[\\d\\s\\.]+\\s[a-z]+\\s', '', ingredient)"
   ]
  },
  {
   "cell_type": "code",
   "execution_count": 104,
   "metadata": {},
   "outputs": [],
   "source": [
    "def fraction_symbol_to_decimal(ingredient):\n",
    "    ingredient = re.sub(r'[\\s]*¼', '.25', ingredient)\n",
    "    ingredient = re.sub(r'[\\s]*½', '.5', ingredient)\n",
    "    ingredient = re.sub(r'[\\s]*¾', '.75', ingredient)\n",
    "    ingredient = re.sub(r'[\\s]*⅐', '.14', ingredient)\n",
    "    ingredient = re.sub(r'[\\s]*⅑', '.11', ingredient)\n",
    "    ingredient = re.sub(r'[\\s]*⅒', '.1', ingredient)\n",
    "    ingredient = re.sub(r'[\\s]*⅓', '.33', ingredient)\n",
    "    ingredient = re.sub(r'[\\s]*⅔', '.67', ingredient)\n",
    "    ingredient = re.sub(r'[\\s]*⅕', '.2', ingredient)\n",
    "    ingredient = re.sub(r'[\\s]*⅖', '.4', ingredient)\n",
    "    ingredient = re.sub(r'[\\s]*⅗', '.6', ingredient)\n",
    "    ingredient = re.sub(r'[\\s]*⅘', '.8', ingredient)\n",
    "    ingredient = re.sub(r'[\\s]*⅙', '.17', ingredient)\n",
    "    ingredient = re.sub(r'[\\s]*⅚', '.83', ingredient)\n",
    "    ingredient = re.sub(r'[\\s]*⅛', '.13', ingredient)\n",
    "    ingredient = re.sub(r'[\\s]*⅜', '.38', ingredient)\n",
    "    ingredient = re.sub(r'[\\s]*⅝', '.88', ingredient)\n",
    "    ingredient = re.sub(r'[\\s]*⅞', '.', ingredient)\n",
    "    ingredient = re.sub(r'[\\s]*↉', '.0', ingredient)\n",
    "    return(ingredient)"
   ]
  },
  {
   "cell_type": "code",
   "execution_count": 107,
   "metadata": {},
   "outputs": [
    {
     "name": "stdout",
     "output_type": "stream",
     "text": [
      "¼ cup extra-virgin olive oil, divided\n",
      "extra-virgin olive oil, divided\n"
     ]
    }
   ],
   "source": [
    "string = crostini_ingredients[1]\n",
    "print(string)\n",
    "stripped_string = strip_quantity(fraction_symbol_to_decimal(string))\n",
    "print(stripped_string)"
   ]
  },
  {
   "cell_type": "code",
   "execution_count": 108,
   "metadata": {},
   "outputs": [
    {
     "name": "stdout",
     "output_type": "stream",
     "text": [
      "vine-ripened tomatoes, cut into 1/4-inch slices\n",
      "extra-virgin olive oil, divided\n",
      "sea salt and freshly ground black pepper to taste\n",
      "butter\n",
      "(blank)s diagonally sliced pieces baguette\n",
      "garlic, halved\n",
      "fresh mozzarella cheese, cut intoslices\n",
      "avocado - halved, pitted, and thinly sliced\n",
      "lemon\n",
      "roughly chopped fresh dill\n",
      "flaked salt\n"
     ]
    }
   ],
   "source": [
    "for i in crostini_ingredients:\n",
    "    stripped_string = strip_quantity(fraction_symbol_to_decimal(i))\n",
    "    print(stripped_string)"
   ]
  },
  {
   "cell_type": "code",
   "execution_count": 151,
   "metadata": {},
   "outputs": [],
   "source": [
    "def preprocess_text(string):\n",
    "    string = string.replace('-', ' ')\n",
    "    return(string)"
   ]
  },
  {
   "cell_type": "code",
   "execution_count": 136,
   "metadata": {},
   "outputs": [],
   "source": [
    "def penn_to_wn(tag):\n",
    "    \"\"\" Convert between a Penn Treebank tag to a simplified Wordnet tag \"\"\"\n",
    "    if tag.startswith('N'):\n",
    "        return 'n'\n",
    " \n",
    "    if tag.startswith('V'):\n",
    "        return 'v'\n",
    " \n",
    "    if tag.startswith('J'):\n",
    "        return 'a'\n",
    " \n",
    "    if tag.startswith('R'):\n",
    "        return 'r'\n",
    " \n",
    "    return None\n",
    "\n",
    "def tagged_to_synset(word, tag):\n",
    "    wn_tag = penn_to_wn(tag)\n",
    "    if wn_tag is None:\n",
    "        return None\n",
    " \n",
    "    try:\n",
    "        return wn.synsets(word, wn_tag)[0]\n",
    "    except:\n",
    "        return None\n",
    "\n",
    "def get_ingredient_similarity(ing1, ing2):\n",
    "    # tokenize and tag\n",
    "    ing1 = pos_tag(word_tokenize(ing1))\n",
    "    ing2 = pos_tag(word_tokenize(ing2))\n",
    "    \n",
    "    # get synsets for tagged words\n",
    "    synsets1 = [tagged_to_synset(*tagged_word) for tagged_word in ing1]\n",
    "    synsets2 = [tagged_to_synset(*tagged_word) for tagged_word in ing2]\n",
    "    \n",
    "    # filter nones\n",
    "    synsets1 = [ss for ss in synsets1 if ss]\n",
    "    synsets2 = [ss for ss in synsets2 if ss]\n",
    "    \n",
    "    score, count = 0.0, 0\n",
    "    \n",
    "    # For each word in the first sentence\n",
    "    for synset in synsets1:\n",
    "        # Get the similarity value of the most similar word in the other sentence\n",
    "        similarities = [synset.path_similarity(ss) for ss in synsets2 if synset.path_similarity(ss)]\n",
    "        if similarities != []:\n",
    "            best_score = max(similarities)\n",
    "        else:\n",
    "            best_score = 0\n",
    " \n",
    "        # Check that the similarity could have been computed\n",
    "        if best_score is not None:\n",
    "            score += best_score\n",
    "            count += 1\n",
    " \n",
    "    # Average the values\n",
    "    score /= count\n",
    "    return score"
   ]
  },
  {
   "cell_type": "code",
   "execution_count": 137,
   "metadata": {},
   "outputs": [
    {
     "name": "stdout",
     "output_type": "stream",
     "text": [
      "2 eaches vine-ripened tomatoes, cut into 1/4-inch slices\n",
      "¼ cup extra-virgin olive oil, divided\n"
     ]
    },
    {
     "data": {
      "text/plain": [
       "0.11428571428571428"
      ]
     },
     "execution_count": 137,
     "metadata": {},
     "output_type": "execute_result"
    }
   ],
   "source": [
    "ing1 = crostini_ingredients[0]\n",
    "ing2 = crostini_ingredients[1]\n",
    "print(ing1)\n",
    "print(ing2)\n",
    "get_ingredient_similarity(ing1, ing2)"
   ]
  },
  {
   "cell_type": "code",
   "execution_count": 138,
   "metadata": {},
   "outputs": [
    {
     "name": "stdout",
     "output_type": "stream",
     "text": [
      "2 eaches vine-ripened tomatoes, cut into 1/4-inch slices\n",
      "2 medium whole (2-3/5\" dia) (blank)s fresh plum tomatoes, seeded and cut into bite-size pieces\n"
     ]
    },
    {
     "data": {
      "text/plain": [
       "0.6969696969696969"
      ]
     },
     "execution_count": 138,
     "metadata": {},
     "output_type": "execute_result"
    }
   ],
   "source": [
    "ing1 = crostini_ingredients[0]\n",
    "ing2 = pasta_ingredients[2]\n",
    "print(ing1)\n",
    "print(ing2)\n",
    "get_ingredient_similarity(ing1, ing2)"
   ]
  },
  {
   "cell_type": "code",
   "execution_count": 139,
   "metadata": {},
   "outputs": [
    {
     "name": "stdout",
     "output_type": "stream",
     "text": [
      "2 eaches vine-ripened tomatoes, cut into 1/4-inch slices\n",
      "1 cup uncooked orzo pasta\n"
     ]
    },
    {
     "data": {
      "text/plain": [
       "0.13992673992673993"
      ]
     },
     "execution_count": 139,
     "metadata": {},
     "output_type": "execute_result"
    }
   ],
   "source": [
    "ing1 = crostini_ingredients[0]\n",
    "ing2 = pasta_ingredients[0]\n",
    "print(ing1)\n",
    "print(ing2)\n",
    "get_ingredient_similarity(ing1, ing2)"
   ]
  },
  {
   "cell_type": "code",
   "execution_count": 155,
   "metadata": {},
   "outputs": [
    {
     "name": "stdout",
     "output_type": "stream",
     "text": [
      "vine ripened tomatoes, cut into 1/4 inch slices\n",
      "tomato on the vine\n"
     ]
    }
   ],
   "source": [
    "ing1 = strip_quantity(fraction_symbol_to_decimal(crostini_ingredients[0]))\n",
    "ing1 = preprocess_text(ing1)\n",
    "\n",
    "score = 0\n",
    "best_match = ''\n",
    "\n",
    "for ing2 in grocery_database:\n",
    "\n",
    "    score_i = get_ingredient_similarity(ing1, ing2)\n",
    "    if score_i > score:\n",
    "        score = score_i\n",
    "        best_match = ing2\n",
    "        \n",
    "print(ing1)\n",
    "print(best_match)"
   ]
  },
  {
   "cell_type": "code",
   "execution_count": 153,
   "metadata": {},
   "outputs": [
    {
     "name": "stdout",
     "output_type": "stream",
     "text": [
      "extra virgin olive oil, divided\n",
      "olive oil\n"
     ]
    }
   ],
   "source": [
    "ing1 = strip_quantity(fraction_symbol_to_decimal(crostini_ingredients[1]))\n",
    "ing1 = preprocess_text(ing1)\n",
    "\n",
    "score = 0\n",
    "best_match = ''\n",
    "\n",
    "for ing2 in grocery_database:\n",
    "    score_i = get_ingredient_similarity(ing1, ing2)\n",
    "    if score_i > score:\n",
    "        score = score_i\n",
    "        best_match = ing2\n",
    "print(ing1)\n",
    "print(best_match)"
   ]
  },
  {
   "cell_type": "code",
   "execution_count": 154,
   "metadata": {},
   "outputs": [
    {
     "data": {
      "text/plain": [
       "'extra-virgin olive oil, divided'"
      ]
     },
     "execution_count": 154,
     "metadata": {},
     "output_type": "execute_result"
    }
   ],
   "source": [
    "strip_quantity(fraction_symbol_to_decimal(crostini_ingredients[1]))"
   ]
  },
  {
   "cell_type": "code",
   "execution_count": null,
   "metadata": {},
   "outputs": [],
   "source": []
  }
 ],
 "metadata": {
  "kernelspec": {
   "display_name": "Python 3",
   "language": "python",
   "name": "python3"
  },
  "language_info": {
   "codemirror_mode": {
    "name": "ipython",
    "version": 3
   },
   "file_extension": ".py",
   "mimetype": "text/x-python",
   "name": "python",
   "nbconvert_exporter": "python",
   "pygments_lexer": "ipython3",
   "version": "3.7.4"
  }
 },
 "nbformat": 4,
 "nbformat_minor": 2
}
